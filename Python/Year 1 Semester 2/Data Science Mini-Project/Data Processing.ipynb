{
 "cells": [
  {
   "cell_type": "markdown",
   "metadata": {},
   "source": [
    "# Import libraries"
   ]
  },
  {
   "cell_type": "code",
   "execution_count": 1,
   "metadata": {},
   "outputs": [],
   "source": [
    "import numpy as np\n",
    "import pandas as pd\n",
    "import seaborn as sb\n",
    "import matplotlib.pyplot as plt # we only need pyplot\n",
    "sb.set() # set the default Seaborn style for graphics\n",
    "from sklearn.metrics import confusion_matrix\n",
    "from sklearn.linear_model import LinearRegression\n",
    "from sklearn.metrics import mean_squared_error\n",
    "from sklearn.tree import plot_tree\n",
    "from sklearn.model_selection import train_test_split\n",
    "from sklearn.tree import DecisionTreeClassifier"
   ]
  },
  {
   "cell_type": "markdown",
   "metadata": {},
   "source": [
    "# Read Data"
   ]
  },
  {
   "cell_type": "code",
   "execution_count": 3,
   "metadata": {},
   "outputs": [],
   "source": [
    "movieData = pd.read_csv('MovieData.csv')"
   ]
  },
  {
   "cell_type": "code",
   "execution_count": 5,
   "metadata": {},
   "outputs": [
    {
     "name": "stdout",
     "output_type": "stream",
     "text": [
      "<class 'pandas.core.frame.DataFrame'>\n",
      "RangeIndex: 1262 entries, 0 to 1261\n",
      "Data columns (total 22 columns):\n",
      " #   Column             Non-Null Count  Dtype  \n",
      "---  ------             --------------  -----  \n",
      " 0   Unnamed: 0         1262 non-null   int64  \n",
      " 1   adult              1262 non-null   bool   \n",
      " 2   backdrop_path      1241 non-null   object \n",
      " 3   genre_ids          1262 non-null   object \n",
      " 4   id                 1262 non-null   int64  \n",
      " 5   original_language  1262 non-null   object \n",
      " 6   original_title     1262 non-null   object \n",
      " 7   overview           1254 non-null   object \n",
      " 8   popularity         1262 non-null   float64\n",
      " 9   poster_path        1261 non-null   object \n",
      " 10  release_date       1260 non-null   object \n",
      " 11  title              1262 non-null   object \n",
      " 12  video              1262 non-null   bool   \n",
      " 13  vote_average       1262 non-null   float64\n",
      " 14  vote_count         1262 non-null   int64  \n",
      " 15  imdb_id            1260 non-null   object \n",
      " 16  budget             1262 non-null   int64  \n",
      " 17  0                  1262 non-null   int64  \n",
      " 18  Metascore          1241 non-null   float64\n",
      " 19  imdbRating         1241 non-null   float64\n",
      " 20  imdbVotes          1241 non-null   object \n",
      " 21  BoxOffice          1034 non-null   object \n",
      "dtypes: bool(2), float64(4), int64(5), object(11)\n",
      "memory usage: 199.8+ KB\n"
     ]
    }
   ],
   "source": [
    "movieData.info()"
   ]
  },
  {
   "cell_type": "code",
   "execution_count": 14,
   "metadata": {},
   "outputs": [],
   "source": [
    "tempDF = movieData[['title', 'popularity']]"
   ]
  },
  {
   "cell_type": "code",
   "execution_count": 18,
   "metadata": {},
   "outputs": [],
   "source": [
    "relevantData = movieData[['title','adult', 'genre_ids', 'popularity', 'vote_average', 'vote_count']]"
   ]
  },
  {
   "cell_type": "code",
   "execution_count": 27,
   "metadata": {},
   "outputs": [
    {
     "data": {
      "text/plain": [
       "0       A portal transports Cpt. Artemis and an elite ...\n",
       "1       A botched store robbery places Wonder Woman in...\n",
       "2       When the crew of a space junk collector ship c...\n",
       "3       Cherry drifts from college dropout to army med...\n",
       "4       Prince Akeem Joffer is set to become King of Z...\n",
       "                              ...                        \n",
       "1257    Ray Breslin is the world's foremost authority ...\n",
       "1258    A pragmatic U.S. Marine observes the dehumaniz...\n",
       "1259    In the world's most dangerous prison, a new ga...\n",
       "1260    Set in a near future, technology-reliant socie...\n",
       "1261    The story follows the adventures of Aang, a yo...\n",
       "Name: overview, Length: 1262, dtype: object"
      ]
     },
     "execution_count": 27,
     "metadata": {},
     "output_type": "execute_result"
    }
   ],
   "source": [
    "movieData['overview']"
   ]
  },
  {
   "cell_type": "code",
   "execution_count": 22,
   "metadata": {},
   "outputs": [
    {
     "data": {
      "text/plain": [
       "1262"
      ]
     },
     "execution_count": 22,
     "metadata": {},
     "output_type": "execute_result"
    }
   ],
   "source": []
  },
  {
   "cell_type": "code",
   "execution_count": null,
   "metadata": {},
   "outputs": [],
   "source": []
  }
 ],
 "metadata": {
  "kernelspec": {
   "display_name": "Python 3",
   "language": "python",
   "name": "python3"
  },
  "language_info": {
   "codemirror_mode": {
    "name": "ipython",
    "version": 3
   },
   "file_extension": ".py",
   "mimetype": "text/x-python",
   "name": "python",
   "nbconvert_exporter": "python",
   "pygments_lexer": "ipython3",
   "version": "3.8.5"
  }
 },
 "nbformat": 4,
 "nbformat_minor": 4
}
