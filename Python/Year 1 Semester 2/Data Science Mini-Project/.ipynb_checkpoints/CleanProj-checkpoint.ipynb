{
 "cells": [
  {
   "cell_type": "markdown",
   "metadata": {},
   "source": [
    "# Data Acquisition"
   ]
  },
  {
   "cell_type": "code",
   "execution_count": 1,
   "metadata": {},
   "outputs": [],
   "source": [
    "import numpy as np\n",
    "import pandas as pd\n",
    "import requests\n",
    "import json\n",
    "import pprint"
   ]
  },
  {
   "cell_type": "code",
   "execution_count": null,
   "metadata": {},
   "outputs": [],
   "source": [
    "movielist=[]\n",
    "for i in range(9000):\n",
    "    url=\"https://api.themoviedb.org/3/discover/movie?api_key=4568df78fb309238e68974a24013b626&language=en-US&include_adult=false&page=\"+str(i)\n",
    "\n",
    "    r = requests.get(url)\n",
    "    if r.status_code in range(200,299):\n",
    "       data = r.json() \n",
    "       results = data[\"results\"]\n",
    "       for j in range(len(results)):\n",
    "         movielist.append(results[j])\n",
    "   \n",
    "    \n",
    "             \n",
    "#Convert raw JSON data in list to Dataframe\n",
    "movieData=pd.DataFrame(movielist)"
   ]
  },
  {
   "cell_type": "code",
   "execution_count": 5,
   "metadata": {},
   "outputs": [
    {
     "data": {
      "text/plain": [
       "adult                   bool\n",
       "backdrop_path         object\n",
       "genre_ids             object\n",
       "id                     int64\n",
       "original_language     object\n",
       "original_title        object\n",
       "overview              object\n",
       "popularity           float64\n",
       "poster_path           object\n",
       "release_date          object\n",
       "title                 object\n",
       "video                   bool\n",
       "vote_average         float64\n",
       "vote_count             int64\n",
       "dtype: object"
      ]
     },
     "execution_count": 5,
     "metadata": {},
     "output_type": "execute_result"
    }
   ],
   "source": [
    "movieData.dtypes"
   ]
  },
  {
   "cell_type": "code",
   "execution_count": 7,
   "metadata": {},
   "outputs": [],
   "source": [
    "movielist=[]\n",
    "for i in range(len(movieData[\"id\"])):\n",
    "    url=\"https://api.themoviedb.org/3/movie/\" + str(movieData[\"id\"].values[i]) + \"?api_key=4568df78fb309238e68974a24013b626\"\n",
    "    r = requests.get(url)\n",
    "    if r.status_code in range(200,299):\n",
    "       data = r.json()\n",
    "       movielist.append(data)\n",
    "\n",
    "movieData = pd.DataFrame(movielist)\n",
    "movieData=movieData[movieData['imdb_id'].notnull()]"
   ]
  },
  {
   "cell_type": "code",
   "execution_count": 10,
   "metadata": {},
   "outputs": [
    {
     "data": {
      "text/plain": [
       "adult                       bool\n",
       "backdrop_path             object\n",
       "belongs_to_collection     object\n",
       "budget                     int64\n",
       "genres                    object\n",
       "homepage                  object\n",
       "id                         int64\n",
       "imdb_id                   object\n",
       "original_language         object\n",
       "original_title            object\n",
       "overview                  object\n",
       "popularity               float64\n",
       "poster_path               object\n",
       "production_companies      object\n",
       "production_countries      object\n",
       "release_date              object\n",
       "revenue                    int64\n",
       "runtime                  float64\n",
       "spoken_languages          object\n",
       "status                    object\n",
       "tagline                   object\n",
       "title                     object\n",
       "video                       bool\n",
       "vote_average             float64\n",
       "vote_count                 int64\n",
       "dtype: object"
      ]
     },
     "execution_count": 10,
     "metadata": {},
     "output_type": "execute_result"
    }
   ],
   "source": [
    "movieData.dtypes"
   ]
  },
  {
   "cell_type": "code",
   "execution_count": 11,
   "metadata": {},
   "outputs": [],
   "source": [
    "ombdList=[]\n",
    "for i in range(len(movieData[\"imdb_id\"])):\n",
    "    url= \"http://www.omdbapi.com/?i=\" + str(movieData[\"imdb_id\"].values[i]) +\"&apikey=f625be79\"\n",
    "    r = requests.get(url)\n",
    "    if r.status_code in range(200,299):\n",
    "       data = r.json() \n",
    "       ombdList.append(data)\n",
    "        \n",
    "\n",
    "#Convert raw JSON data in list to Dataframe\n",
    "ombdData=pd.DataFrame(ombdList)\n"
   ]
  },
  {
   "cell_type": "code",
   "execution_count": 14,
   "metadata": {},
   "outputs": [
    {
     "data": {
      "text/plain": [
       "Title           object\n",
       "Year            object\n",
       "Rated           object\n",
       "Released        object\n",
       "Runtime         object\n",
       "Genre           object\n",
       "Director        object\n",
       "Writer          object\n",
       "Actors          object\n",
       "Plot            object\n",
       "Language        object\n",
       "Country         object\n",
       "Awards          object\n",
       "Poster          object\n",
       "Ratings         object\n",
       "Metascore       object\n",
       "imdbRating      object\n",
       "imdbVotes       object\n",
       "imdbID          object\n",
       "Type            object\n",
       "DVD             object\n",
       "BoxOffice       object\n",
       "Production      object\n",
       "Website         object\n",
       "Response        object\n",
       "Season          object\n",
       "Episode         object\n",
       "seriesID        object\n",
       "Error           object\n",
       "totalSeasons    object\n",
       "dtype: object"
      ]
     },
     "execution_count": 14,
     "metadata": {},
     "output_type": "execute_result"
    }
   ],
   "source": [
    "ombdData.dtypes"
   ]
  },
  {
   "cell_type": "code",
   "execution_count": 15,
   "metadata": {},
   "outputs": [],
   "source": [
    "ombdData = ombdData[[\"Metascore\", \"imdbRating\", \"imdbVotes\"]]\n",
    "movieData = movieData.join(ombdData)\n",
    "movieData = movieData[movieData[\"Metascore\"]!=\"N/A\"]\n",
    "movieData.dropna()\n",
    "movieData.reset_index(drop=True, inplace=True)"
   ]
  },
  {
   "cell_type": "code",
   "execution_count": 17,
   "metadata": {},
   "outputs": [
    {
     "name": "stdout",
     "output_type": "stream",
     "text": [
      "<class 'pandas.core.frame.DataFrame'>\n",
      "RangeIndex: 1262 entries, 0 to 1261\n",
      "Data columns (total 28 columns):\n",
      " #   Column                 Non-Null Count  Dtype  \n",
      "---  ------                 --------------  -----  \n",
      " 0   adult                  1262 non-null   bool   \n",
      " 1   backdrop_path          1241 non-null   object \n",
      " 2   belongs_to_collection  493 non-null    object \n",
      " 3   budget                 1262 non-null   int64  \n",
      " 4   genres                 1262 non-null   object \n",
      " 5   homepage               1260 non-null   object \n",
      " 6   id                     1262 non-null   int64  \n",
      " 7   imdb_id                1262 non-null   object \n",
      " 8   original_language      1262 non-null   object \n",
      " 9   original_title         1262 non-null   object \n",
      " 10  overview               1262 non-null   object \n",
      " 11  popularity             1262 non-null   float64\n",
      " 12  poster_path            1261 non-null   object \n",
      " 13  production_companies   1262 non-null   object \n",
      " 14  production_countries   1262 non-null   object \n",
      " 15  release_date           1262 non-null   object \n",
      " 16  revenue                1262 non-null   int64  \n",
      " 17  runtime                1260 non-null   float64\n",
      " 18  spoken_languages       1262 non-null   object \n",
      " 19  status                 1262 non-null   object \n",
      " 20  tagline                1262 non-null   object \n",
      " 21  title                  1262 non-null   object \n",
      " 22  video                  1262 non-null   bool   \n",
      " 23  vote_average           1262 non-null   float64\n",
      " 24  vote_count             1262 non-null   int64  \n",
      " 25  Metascore              1241 non-null   object \n",
      " 26  imdbRating             1241 non-null   object \n",
      " 27  imdbVotes              1241 non-null   object \n",
      "dtypes: bool(2), float64(3), int64(4), object(19)\n",
      "memory usage: 258.9+ KB\n"
     ]
    }
   ],
   "source": [
    "movieData.info()"
   ]
  },
  {
   "cell_type": "code",
   "execution_count": 22,
   "metadata": {},
   "outputs": [],
   "source": [
    "cleanData = movieData.drop(['backdrop_path','belongs_to_collection','homepage','original_title','overview','poster_path','status','video'], axis=1)"
   ]
  },
  {
   "cell_type": "code",
   "execution_count": 23,
   "metadata": {},
   "outputs": [
    {
     "name": "stdout",
     "output_type": "stream",
     "text": [
      "<class 'pandas.core.frame.DataFrame'>\n",
      "RangeIndex: 1262 entries, 0 to 1261\n",
      "Data columns (total 20 columns):\n",
      " #   Column                Non-Null Count  Dtype  \n",
      "---  ------                --------------  -----  \n",
      " 0   adult                 1262 non-null   bool   \n",
      " 1   budget                1262 non-null   int64  \n",
      " 2   genres                1262 non-null   object \n",
      " 3   id                    1262 non-null   int64  \n",
      " 4   imdb_id               1262 non-null   object \n",
      " 5   original_language     1262 non-null   object \n",
      " 6   popularity            1262 non-null   float64\n",
      " 7   production_companies  1262 non-null   object \n",
      " 8   production_countries  1262 non-null   object \n",
      " 9   release_date          1262 non-null   object \n",
      " 10  revenue               1262 non-null   int64  \n",
      " 11  runtime               1260 non-null   float64\n",
      " 12  spoken_languages      1262 non-null   object \n",
      " 13  tagline               1262 non-null   object \n",
      " 14  title                 1262 non-null   object \n",
      " 15  vote_average          1262 non-null   float64\n",
      " 16  vote_count            1262 non-null   int64  \n",
      " 17  Metascore             1241 non-null   object \n",
      " 18  imdbRating            1241 non-null   object \n",
      " 19  imdbVotes             1241 non-null   object \n",
      "dtypes: bool(1), float64(3), int64(4), object(12)\n",
      "memory usage: 188.7+ KB\n"
     ]
    }
   ],
   "source": [
    "cleanData.info()"
   ]
  },
  {
   "cell_type": "code",
   "execution_count": 24,
   "metadata": {},
   "outputs": [],
   "source": [
    "#cleanData.to_csv('cleanData.csv')"
   ]
  },
  {
   "cell_type": "code",
   "execution_count": 27,
   "metadata": {},
   "outputs": [
    {
     "name": "stdout",
     "output_type": "stream",
     "text": [
      "<class 'pandas.core.frame.DataFrame'>\n",
      "RangeIndex: 1262 entries, 0 to 1261\n",
      "Data columns (total 20 columns):\n",
      " #   Column                Non-Null Count  Dtype  \n",
      "---  ------                --------------  -----  \n",
      " 0   adult                 1262 non-null   bool   \n",
      " 1   budget                1262 non-null   int64  \n",
      " 2   genres                1262 non-null   object \n",
      " 3   id                    1262 non-null   int64  \n",
      " 4   imdb_id               1262 non-null   object \n",
      " 5   original_language     1262 non-null   object \n",
      " 6   popularity            1262 non-null   float64\n",
      " 7   production_companies  1262 non-null   object \n",
      " 8   production_countries  1262 non-null   object \n",
      " 9   release_date          1262 non-null   object \n",
      " 10  revenue               1262 non-null   int64  \n",
      " 11  runtime               1260 non-null   float64\n",
      " 12  spoken_languages      1262 non-null   object \n",
      " 13  tagline               1262 non-null   object \n",
      " 14  title                 1262 non-null   object \n",
      " 15  vote_average          1262 non-null   float64\n",
      " 16  vote_count            1262 non-null   int64  \n",
      " 17  Metascore             1241 non-null   object \n",
      " 18  imdbRating            1241 non-null   object \n",
      " 19  imdbVotes             1241 non-null   object \n",
      "dtypes: bool(1), float64(3), int64(4), object(12)\n",
      "memory usage: 188.7+ KB\n"
     ]
    }
   ],
   "source": [
    "cleanData.info()"
   ]
  },
  {
   "cell_type": "markdown",
   "metadata": {},
   "source": [
    "# Remove empty values"
   ]
  },
  {
   "cell_type": "code",
   "execution_count": 59,
   "metadata": {},
   "outputs": [
    {
     "data": {
      "text/plain": [
       "adult                    0\n",
       "budget                   0\n",
       "genres                   0\n",
       "id                       0\n",
       "imdb_id                  0\n",
       "original_language        0\n",
       "popularity               0\n",
       "production_companies     0\n",
       "production_countries     0\n",
       "release_date             0\n",
       "revenue                  0\n",
       "runtime                  2\n",
       "spoken_languages         0\n",
       "tagline                  0\n",
       "title                    0\n",
       "vote_average             0\n",
       "vote_count               0\n",
       "Metascore               21\n",
       "imdbRating              21\n",
       "imdbVotes               21\n",
       "dtype: int64"
      ]
     },
     "execution_count": 59,
     "metadata": {},
     "output_type": "execute_result"
    }
   ],
   "source": [
    "cleanData.isnull().sum()"
   ]
  },
  {
   "cell_type": "code",
   "execution_count": 64,
   "metadata": {},
   "outputs": [],
   "source": [
    "cleanData[\"Metascore\"].fillna(value = \"Nan\", inplace = True)"
   ]
  },
  {
   "cell_type": "code",
   "execution_count": 65,
   "metadata": {},
   "outputs": [
    {
     "data": {
      "text/plain": [
       "Int64Index([ 136,  169,  254,  310,  589,  668,  884,  987,  997, 1192, 1226,\n",
       "            1252, 1253, 1254, 1255, 1256, 1257, 1258, 1259, 1260, 1261],\n",
       "           dtype='int64')"
      ]
     },
     "execution_count": 65,
     "metadata": {},
     "output_type": "execute_result"
    }
   ],
   "source": [
    "cleanData[cleanData['Metascore']== 'Nan'].index"
   ]
  },
  {
   "cell_type": "code",
   "execution_count": 69,
   "metadata": {},
   "outputs": [],
   "source": [
    "cleanData.drop( cleanData[ cleanData['Metascore'] == 'Nan' ].index , inplace=True)"
   ]
  },
  {
   "cell_type": "code",
   "execution_count": 71,
   "metadata": {},
   "outputs": [],
   "source": [
    "cleanData[\"runtime\"].fillna(value = \"Nan\", inplace = True)"
   ]
  },
  {
   "cell_type": "code",
   "execution_count": 72,
   "metadata": {},
   "outputs": [
    {
     "data": {
      "text/plain": [
       "Int64Index([137, 1063], dtype='int64')"
      ]
     },
     "execution_count": 72,
     "metadata": {},
     "output_type": "execute_result"
    }
   ],
   "source": [
    "cleanData[cleanData['runtime']== 'Nan'].index"
   ]
  },
  {
   "cell_type": "code",
   "execution_count": 73,
   "metadata": {},
   "outputs": [],
   "source": [
    "cleanData.drop( cleanData[ cleanData['runtime'] == 'Nan' ].index , inplace=True)"
   ]
  },
  {
   "cell_type": "code",
   "execution_count": 75,
   "metadata": {},
   "outputs": [
    {
     "data": {
      "text/plain": [
       "adult                   0\n",
       "budget                  0\n",
       "genres                  0\n",
       "id                      0\n",
       "imdb_id                 0\n",
       "original_language       0\n",
       "popularity              0\n",
       "production_companies    0\n",
       "production_countries    0\n",
       "release_date            0\n",
       "revenue                 0\n",
       "runtime                 0\n",
       "spoken_languages        0\n",
       "tagline                 0\n",
       "title                   0\n",
       "vote_average            0\n",
       "vote_count              0\n",
       "Metascore               0\n",
       "imdbRating              0\n",
       "imdbVotes               0\n",
       "dtype: int64"
      ]
     },
     "execution_count": 75,
     "metadata": {},
     "output_type": "execute_result"
    }
   ],
   "source": [
    "cleanData.isnull().sum() #check that there is no more empty values"
   ]
  },
  {
   "cell_type": "code",
   "execution_count": 76,
   "metadata": {},
   "outputs": [
    {
     "name": "stdout",
     "output_type": "stream",
     "text": [
      "<class 'pandas.core.frame.DataFrame'>\n",
      "Int64Index: 1239 entries, 0 to 1251\n",
      "Data columns (total 20 columns):\n",
      " #   Column                Non-Null Count  Dtype  \n",
      "---  ------                --------------  -----  \n",
      " 0   adult                 1239 non-null   bool   \n",
      " 1   budget                1239 non-null   int64  \n",
      " 2   genres                1239 non-null   object \n",
      " 3   id                    1239 non-null   int64  \n",
      " 4   imdb_id               1239 non-null   object \n",
      " 5   original_language     1239 non-null   object \n",
      " 6   popularity            1239 non-null   float64\n",
      " 7   production_companies  1239 non-null   object \n",
      " 8   production_countries  1239 non-null   object \n",
      " 9   release_date          1239 non-null   object \n",
      " 10  revenue               1239 non-null   int64  \n",
      " 11  runtime               1239 non-null   object \n",
      " 12  spoken_languages      1239 non-null   object \n",
      " 13  tagline               1239 non-null   object \n",
      " 14  title                 1239 non-null   object \n",
      " 15  vote_average          1239 non-null   float64\n",
      " 16  vote_count            1239 non-null   int64  \n",
      " 17  Metascore             1239 non-null   object \n",
      " 18  imdbRating            1239 non-null   object \n",
      " 19  imdbVotes             1239 non-null   object \n",
      "dtypes: bool(1), float64(2), int64(4), object(13)\n",
      "memory usage: 194.8+ KB\n"
     ]
    }
   ],
   "source": [
    "cleanData.info()"
   ]
  },
  {
   "cell_type": "code",
   "execution_count": 79,
   "metadata": {},
   "outputs": [],
   "source": [
    "#produce csv\n",
    "cleanData.to_csv('Bigger_cleanData.csv')"
   ]
  },
  {
   "cell_type": "code",
   "execution_count": null,
   "metadata": {},
   "outputs": [],
   "source": []
  }
 ],
 "metadata": {
  "kernelspec": {
   "display_name": "Python 3",
   "language": "python",
   "name": "python3"
  },
  "language_info": {
   "codemirror_mode": {
    "name": "ipython",
    "version": 3
   },
   "file_extension": ".py",
   "mimetype": "text/x-python",
   "name": "python",
   "nbconvert_exporter": "python",
   "pygments_lexer": "ipython3",
   "version": "3.8.5"
  }
 },
 "nbformat": 4,
 "nbformat_minor": 4
}
