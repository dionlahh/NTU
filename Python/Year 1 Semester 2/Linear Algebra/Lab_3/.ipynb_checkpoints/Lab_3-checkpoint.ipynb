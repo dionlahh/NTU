{
 "cells": [
  {
   "cell_type": "markdown",
   "metadata": {},
   "source": [
    "# Name: Dion Toh Siyong\n",
    "# Matric No: U2021674D"
   ]
  },
  {
   "cell_type": "markdown",
   "metadata": {},
   "source": [
    "## CZ1104 Lab 3"
   ]
  },
  {
   "cell_type": "code",
   "execution_count": 1,
   "metadata": {},
   "outputs": [],
   "source": [
    "import matplotlib.pyplot as plt\n",
    "import numpy as np\n",
    "import string\n",
    "import pandas as pd"
   ]
  },
  {
   "cell_type": "markdown",
   "metadata": {},
   "source": [
    "# Question 1"
   ]
  },
  {
   "cell_type": "markdown",
   "metadata": {},
   "source": [
    "### Reducing 5x5 GF(2) matrix"
   ]
  },
  {
   "cell_type": "code",
   "execution_count": 2,
   "metadata": {
    "scrolled": false
   },
   "outputs": [
    {
     "name": "stdout",
     "output_type": "stream",
     "text": [
      "\n",
      "Original:\n",
      " [[0 0 1 0 1]\n",
      " [0 0 0 1 0]\n",
      " [1 0 1 0 1]\n",
      " [0 0 0 0 1]\n",
      " [0 0 0 1 0]] \n",
      "\n",
      "Rows with nonzero: [2]\n",
      "Rows with nonzero: []\n",
      "Rows with nonzero: [0]\n",
      "Rows with nonzero: [1, 4]\n",
      "Rows with nonzero: [3]\n",
      "\n",
      "After Reduction:\n",
      " [[1 0 1 0 1]\n",
      " [0 0 1 0 1]\n",
      " [0 0 0 1 0]\n",
      " [0 0 0 0 1]]\n"
     ]
    }
   ],
   "source": [
    "rowlist = np.array([[0,0,1,0,1],\n",
    "                    [0,0,0,1,0],\n",
    "                    [1,0,1,0,1],\n",
    "                    [0,0,0,0,1],\n",
    "                    [0,0,0,1,0]]) #GF(2)\n",
    "\n",
    "print(\"\\nOriginal:\\n\", rowlist, '\\n')\n",
    "\n",
    "new_rowlist = []\n",
    "rows_left = set(range(len(rowlist)))\n",
    "\n",
    "col_label_list = list(range(0, 5))\n",
    "\n",
    "for c in col_label_list:\n",
    "    rows_with_nonzero = [r for r in rows_left if rowlist[r][c] !=0]\n",
    "    print(\"Rows with nonzero:\", rows_with_nonzero)\n",
    "    if rows_with_nonzero != []:\n",
    "        pivot = rows_with_nonzero[0]\n",
    "        new_rowlist.append(rowlist[pivot])\n",
    "        rows_left.remove(pivot)\n",
    "        \n",
    "new_rowlist = np.array(new_rowlist)\n",
    "\n",
    "print(\"\\nAfter Reduction:\\n\", new_rowlist)"
   ]
  },
  {
   "cell_type": "markdown",
   "metadata": {},
   "source": [
    "### Updated code for reducing 5x5 GF(2) matrix "
   ]
  },
  {
   "cell_type": "code",
   "execution_count": 3,
   "metadata": {},
   "outputs": [
    {
     "name": "stdout",
     "output_type": "stream",
     "text": [
      "\n",
      "Original:\n",
      " [[0 0 1 0 1]\n",
      " [0 0 0 1 0]\n",
      " [1 0 1 0 1]\n",
      " [0 0 0 0 1]\n",
      " [0 0 0 1 0]] \n",
      "\n",
      "Rows with nonzero: [2]\n",
      "Rows with nonzero: []\n",
      "Rows with nonzero: [0]\n",
      "Rows with nonzero: [1, 4]\n",
      "Rows with nonzero: [3]\n",
      "\n",
      "After Reduction:\n",
      " [[1 0 1 0 1]\n",
      " [0 0 1 0 1]\n",
      " [0 0 0 1 0]\n",
      " [0 0 0 0 1]]\n"
     ]
    }
   ],
   "source": [
    "rowlist = np.array([[0,0,1,0,1],\n",
    "                    [0,0,0,1,0],\n",
    "                    [1,0,1,0,1],\n",
    "                    [0,0,0,0,1],\n",
    "                    [0,0,0,1,0]]) #GF(2)\n",
    "\n",
    "print(\"\\nOriginal:\\n\", rowlist, '\\n')\n",
    "\n",
    "new_rowlist = []\n",
    "rows_left = set(range(len(rowlist)))\n",
    "\n",
    "col_label_list = list(range(0, 5))\n",
    "\n",
    "for c in col_label_list:\n",
    "    rows_with_nonzero = [r for r in rows_left if rowlist[r][c] !=0]\n",
    "    print(\"Rows with nonzero:\", rows_with_nonzero)\n",
    "    if rows_with_nonzero != []:\n",
    "        pivot = rows_with_nonzero[0]\n",
    "        new_rowlist.append(rowlist[pivot])\n",
    "        rows_left.remove(pivot)\n",
    "        for r in rows_with_nonzero[1:]:\n",
    "            multiplier = rowlist[r][c]/rowlist[pivot][c]\n",
    "            for x in range(c,4):\n",
    "                rowlist[r][x] -= multiplier * rowlist[pivot][x]\n",
    "\n",
    "new_rowlist = np.array(new_rowlist)\n",
    "\n",
    "print(\"\\nAfter Reduction:\\n\", new_rowlist)"
   ]
  },
  {
   "cell_type": "markdown",
   "metadata": {},
   "source": [
    "# Question 2"
   ]
  },
  {
   "cell_type": "markdown",
   "metadata": {},
   "source": [
    "### Reducing 4x4 GF(2) matrix using Gaussian Elimination"
   ]
  },
  {
   "cell_type": "code",
   "execution_count": 4,
   "metadata": {},
   "outputs": [
    {
     "name": "stdout",
     "output_type": "stream",
     "text": [
      "\n",
      "Original:\n",
      " [[0 0 1 1]\n",
      " [1 0 1 1]\n",
      " [1 0 0 1]\n",
      " [1 1 1 1]] \n",
      "\n",
      "Rows with nonzero: [1, 2, 3]\n",
      "Rows with nonzero: [3]\n",
      "Rows with nonzero: [0, 2]\n",
      "Rows with nonzero: [2]\n",
      "\n",
      "After Reduction:\n",
      " [[1 0 1 1]\n",
      " [0 1 0 0]\n",
      " [0 0 1 1]\n",
      " [0 0 0 1]]\n"
     ]
    }
   ],
   "source": [
    "rowlist = np.array([[0,0,1,1],\n",
    "                    [1,0,1,1],\n",
    "                    [1,0,0,1],\n",
    "                    [1,1,1,1]]) #GF(2)\n",
    "\n",
    "print(\"\\nOriginal:\\n\", rowlist, '\\n')\n",
    "\n",
    "new_rowlist = []\n",
    "rows_left = set(range(len(rowlist)))\n",
    "\n",
    "col_label_list = list(range(0, 4))\n",
    "\n",
    "for c in range(len(rowlist)):\n",
    "    rows_with_nonzero = [r for r in rows_left if rowlist[r][c] !=0]\n",
    "    print(\"Rows with nonzero:\", rows_with_nonzero)\n",
    "    if rows_with_nonzero != []:\n",
    "        pivot = rows_with_nonzero[0]\n",
    "        new_rowlist.append(rowlist[pivot])\n",
    "        rows_left.remove(pivot)\n",
    "        for r in rows_with_nonzero[1:]:\n",
    "            for x in range(c,4):\n",
    "                rowlist[r][x] += rowlist[pivot][x]\n",
    "                rowlist[r][x] %= 2\n",
    "                \n",
    "new_rowlist = np.array(new_rowlist)\n",
    "\n",
    "print(\"\\nAfter Reduction:\\n\", new_rowlist)"
   ]
  },
  {
   "cell_type": "markdown",
   "metadata": {},
   "source": [
    "### Reducing 4x4 matrix with general numers using Gaussian Elimination"
   ]
  },
  {
   "cell_type": "code",
   "execution_count": 5,
   "metadata": {},
   "outputs": [
    {
     "name": "stdout",
     "output_type": "stream",
     "text": [
      "\n",
      "Original:\n",
      " [[4 3 2 1]\n",
      " [3 5 1 9]\n",
      " [4 7 1 3]\n",
      " [9 7 8 1]] \n",
      "\n",
      "Rows with nonzero: [0, 1, 2, 3]\n",
      "Rows with nonzero: [1, 2]\n",
      "Rows with nonzero: [2, 3]\n",
      "Rows with nonzero: [3]\n",
      "\n",
      "After Reduction:\n",
      " [[  4   3   2   1]\n",
      " [  0   2   0   8]\n",
      " [  0   0  -1 -14]\n",
      " [  0   0   0 -43]]\n"
     ]
    }
   ],
   "source": [
    "rowlist = np.array([[4,3,2,1],\n",
    "                    [3,5,1,9],\n",
    "                    [4,7,1,3],\n",
    "                    [9,7,8,1]])\n",
    "\n",
    "print(\"\\nOriginal:\\n\", rowlist, '\\n')\n",
    "\n",
    "new_rowlist = []\n",
    "rows_left = set(range(len(rowlist)))\n",
    "\n",
    "col_label_list = list(range(0, 4))\n",
    "\n",
    "for c in range(len(rowlist)):\n",
    "    rows_with_nonzero = [r for r in rows_left if rowlist[r][c] !=0]\n",
    "    print(\"Rows with nonzero:\", rows_with_nonzero)\n",
    "    if rows_with_nonzero != []:\n",
    "        pivot = rows_with_nonzero[0]\n",
    "        new_rowlist.append(rowlist[pivot])\n",
    "        rows_left.remove(pivot)\n",
    "        for r in rows_with_nonzero[1:]:\n",
    "            multiplier = rowlist[r][c]/rowlist[pivot][c]\n",
    "            for x in range(c,4):\n",
    "                rowlist[r][x] -= multiplier * rowlist[pivot][x]\n",
    "                \n",
    "new_rowlist = np.array(new_rowlist)\n",
    "\n",
    "print(\"\\nAfter Reduction:\\n\", new_rowlist)"
   ]
  },
  {
   "cell_type": "code",
   "execution_count": null,
   "metadata": {},
   "outputs": [],
   "source": []
  }
 ],
 "metadata": {
  "kernelspec": {
   "display_name": "Python 3",
   "language": "python",
   "name": "python3"
  },
  "language_info": {
   "codemirror_mode": {
    "name": "ipython",
    "version": 3
   },
   "file_extension": ".py",
   "mimetype": "text/x-python",
   "name": "python",
   "nbconvert_exporter": "python",
   "pygments_lexer": "ipython3",
   "version": "3.8.5"
  }
 },
 "nbformat": 4,
 "nbformat_minor": 4
}
