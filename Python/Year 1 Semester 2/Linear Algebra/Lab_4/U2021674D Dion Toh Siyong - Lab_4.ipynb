{
 "cells": [
  {
   "cell_type": "markdown",
   "metadata": {},
   "source": [
    "# Name: Dion Toh Siyong\n",
    "\n",
    "# Matriculation Number: U2021674D"
   ]
  },
  {
   "cell_type": "markdown",
   "metadata": {},
   "source": [
    "## CZ1104 Lab 4"
   ]
  },
  {
   "cell_type": "code",
   "execution_count": 1,
   "metadata": {},
   "outputs": [],
   "source": [
    "import matplotlib.pyplot as plt\n",
    "import numpy as np\n",
    "import string\n",
    "import pandas as pd"
   ]
  },
  {
   "cell_type": "markdown",
   "metadata": {},
   "source": [
    "### Q1a. Write a program to test if a set of vectors {v1,v2,…,vn} is an orthogonal set. "
   ]
  },
  {
   "cell_type": "code",
   "execution_count": 2,
   "metadata": {
    "scrolled": true
   },
   "outputs": [],
   "source": [
    "def orthogonal_set(matrix):\n",
    "    rows, columns = matrix.shape\n",
    "    for i in range (0,columns):\n",
    "        col = matrix[:,i]\n",
    "        for j in range (i, columns):\n",
    "            if j == i:\n",
    "                continue\n",
    "            else:\n",
    "                col2 = matrix[:,j]\n",
    "                check = np.dot(col, col2)\n",
    "                print(\"Comparing column\", i, \"and column\",  j, \"...\")\n",
    "                if check != 0:\n",
    "                    print(\"Not an orthogonal set!\")\n",
    "                    return\n",
    "    print(\"Orthognal set!\")"
   ]
  },
  {
   "cell_type": "markdown",
   "metadata": {},
   "source": [
    "#### Test 1: Orthogonal Set"
   ]
  },
  {
   "cell_type": "code",
   "execution_count": 3,
   "metadata": {},
   "outputs": [
    {
     "name": "stdout",
     "output_type": "stream",
     "text": [
      "Comparing column 0 and column 1 ...\n",
      "Comparing column 0 and column 2 ...\n",
      "Comparing column 1 and column 2 ...\n",
      "Orthognal set!\n"
     ]
    }
   ],
   "source": [
    "matrix = np.array([[3,-1,-0.5], \n",
    "                   [1,2,-2], \n",
    "                   [1,1,3.5]])\n",
    "\n",
    "    \n",
    "orthogonal_set(matrix)"
   ]
  },
  {
   "cell_type": "markdown",
   "metadata": {},
   "source": [
    "#### Test 2: Non Orthogonal Set"
   ]
  },
  {
   "cell_type": "code",
   "execution_count": 4,
   "metadata": {},
   "outputs": [
    {
     "name": "stdout",
     "output_type": "stream",
     "text": [
      "Comparing column 0 and column 1 ...\n",
      "Not an orthogonal set!\n"
     ]
    }
   ],
   "source": [
    "matrix = np.array([[1, 2, 3], \n",
    "                   [4, 5, 6],\n",
    "                   [7 ,8 ,9],\n",
    "                   [10, 11, 12]])\n",
    "\n",
    "orthogonal_set(matrix)"
   ]
  },
  {
   "cell_type": "markdown",
   "metadata": {},
   "source": [
    "#### Test 3: Orthogonal Set"
   ]
  },
  {
   "cell_type": "code",
   "execution_count": 5,
   "metadata": {},
   "outputs": [
    {
     "name": "stdout",
     "output_type": "stream",
     "text": [
      "Comparing column 0 and column 1 ...\n",
      "Orthognal set!\n"
     ]
    }
   ],
   "source": [
    "matrix = np.array([[1/3, -1/2], \n",
    "                   [1/3, 0], \n",
    "                   [1/3, 1/2]])\n",
    "\n",
    "    \n",
    "orthogonal_set(matrix)"
   ]
  },
  {
   "cell_type": "markdown",
   "metadata": {},
   "source": [
    "#### Test 4: Non Orthogonal Set"
   ]
  },
  {
   "cell_type": "code",
   "execution_count": 6,
   "metadata": {},
   "outputs": [
    {
     "name": "stdout",
     "output_type": "stream",
     "text": [
      "Comparing column 0 and column 1 ...\n",
      "Not an orthogonal set!\n"
     ]
    }
   ],
   "source": [
    "matrix = np.array([[0, 0], \n",
    "                   [1, -1], \n",
    "                   [0, 0]])\n",
    "\n",
    "    \n",
    "orthogonal_set(matrix)"
   ]
  },
  {
   "cell_type": "markdown",
   "metadata": {},
   "source": [
    "### Q1b. Output which pairs are not orthogonal."
   ]
  },
  {
   "cell_type": "code",
   "execution_count": 7,
   "metadata": {},
   "outputs": [],
   "source": [
    "def orthogonal_set_show(matrix):\n",
    "    rows, columns = matrix.shape\n",
    "    for i in range (0,columns):\n",
    "        col = matrix[:,i]\n",
    "        for j in range (i, columns):\n",
    "            if j == i:\n",
    "                continue\n",
    "            else:\n",
    "                col2 = matrix[:,j]\n",
    "                check = np.dot(col, col2)\n",
    "                print(\"Comparing column\", i, \"and column\", j, \"...\")\n",
    "                if check != 0:\n",
    "                    print(i, \"and\", j, \"are NOT orthogonal!\")\n",
    "                else:\n",
    "                    print(\"Orthogonal!\")\n",
    "                print()"
   ]
  },
  {
   "cell_type": "markdown",
   "metadata": {},
   "source": [
    "#### Test with Matrix A"
   ]
  },
  {
   "cell_type": "code",
   "execution_count": 8,
   "metadata": {},
   "outputs": [
    {
     "name": "stdout",
     "output_type": "stream",
     "text": [
      "Comparing column 0 and column 1 ...\n",
      "Orthogonal!\n",
      "\n",
      "Comparing column 0 and column 2 ...\n",
      "Orthogonal!\n",
      "\n",
      "Comparing column 0 and column 3 ...\n",
      "Orthogonal!\n",
      "\n",
      "Comparing column 1 and column 2 ...\n",
      "Orthogonal!\n",
      "\n",
      "Comparing column 1 and column 3 ...\n",
      "Orthogonal!\n",
      "\n",
      "Comparing column 2 and column 3 ...\n",
      "Orthogonal!\n",
      "\n"
     ]
    }
   ],
   "source": [
    "matrix = np.array([[-6, -3, 6, 1], \n",
    "                   [-1, 2, 1, -6], \n",
    "                   [3, 6, 3, -2],\n",
    "                   [6, -3, 6, -1],\n",
    "                   [2, -1, 2, 3],\n",
    "                   [-3, 6, 3, 2],\n",
    "                   [-2, -1, 2, -3],\n",
    "                   [ 1, 2, 1, 6]])\n",
    "\n",
    "    \n",
    "orthogonal_set_show(matrix)"
   ]
  },
  {
   "cell_type": "markdown",
   "metadata": {},
   "source": [
    "#### Test with Non-Orthogonal Matrix"
   ]
  },
  {
   "cell_type": "code",
   "execution_count": 9,
   "metadata": {},
   "outputs": [
    {
     "name": "stdout",
     "output_type": "stream",
     "text": [
      "Comparing column 0 and column 1 ...\n",
      "0 and 1 are NOT orthogonal!\n",
      "\n",
      "Comparing column 0 and column 2 ...\n",
      "0 and 2 are NOT orthogonal!\n",
      "\n",
      "Comparing column 1 and column 2 ...\n",
      "1 and 2 are NOT orthogonal!\n",
      "\n"
     ]
    }
   ],
   "source": [
    "matrix = np.array([[1, 2, 3], \n",
    "                   [4, 5, 6],\n",
    "                   [7 ,8 ,9],\n",
    "                   [10, 11, 12]])\n",
    "\n",
    "orthogonal_set_show(matrix)"
   ]
  },
  {
   "cell_type": "markdown",
   "metadata": {},
   "source": [
    "### Q1c. Is it always true (in executing program on dot product) that 2 vectors v.w ≠ 0 means v is not orthogonal to w? If it is not necessary true, give an example and propose a fix."
   ]
  },
  {
   "cell_type": "markdown",
   "metadata": {},
   "source": [
    "It is not always true. Due to the handling of floats. The dot product of 2 vectors might return a value of 2*10^-14, when it should be 0. Therefore when compared to 0, it would return false."
   ]
  },
  {
   "cell_type": "markdown",
   "metadata": {},
   "source": [
    "Therefore we should set certain criterias to ensure that the true result is taken.\n",
    "\n",
    "If check value is less than 10^-13, we would consider it as 0."
   ]
  },
  {
   "cell_type": "code",
   "execution_count": 10,
   "metadata": {},
   "outputs": [],
   "source": [
    "def orthogonal_set(matrix):\n",
    "    rows, columns = matrix.shape\n",
    "    for i in range (0,columns):\n",
    "        col = matrix[:,i]\n",
    "        for j in range (i, columns):\n",
    "            if j == i:\n",
    "                continue\n",
    "            else:\n",
    "                col2 = matrix[:,j]\n",
    "                check = np.dot(col, col2)\n",
    "                print(\"Comparing column\", i, \"and column\",  j, \"...\")\n",
    "                if abs(check) > 10**-13: #condition\n",
    "                    print(\"Not an orthogonal set!\")\n",
    "                    return\n",
    "    print(\"Orthognal set!\")"
   ]
  },
  {
   "cell_type": "code",
   "execution_count": 11,
   "metadata": {},
   "outputs": [],
   "source": [
    "def orthogonal_set_show(matrix):\n",
    "    rows, columns = matrix.shape\n",
    "    for i in range (0,columns):\n",
    "        col = matrix[:,i]\n",
    "        for j in range (i, columns):\n",
    "            if j == i:\n",
    "                continue\n",
    "            else:\n",
    "                col2 = matrix[:,j]\n",
    "                check = np.dot(col, col2)\n",
    "                print(\"Comparing column\", i, \"and column\", j, \"...\")\n",
    "                if abs(check) < 10**-13: #condition\n",
    "                    print(\"Orthogonal!\")\n",
    "                else:\n",
    "                    print(i, \"and\", j, \"are NOT orthogonal!\")\n",
    "                print()"
   ]
  },
  {
   "cell_type": "markdown",
   "metadata": {},
   "source": [
    "### Q2. Write a module “Orthonormalisation” that defines a a procedure orthonormalise(L) with the following specs:\n",
    "\n",
    "- Input: a list L of linearly independent Vecs      \n",
    "- Output: a list L* of len(L) orthonormal Vecs such that, for i= 1,2,…, len(L), the first i Vecs of L* and the first i Vecs of L span the same space.       "
   ]
  },
  {
   "cell_type": "code",
   "execution_count": 12,
   "metadata": {},
   "outputs": [],
   "source": [
    "def Orthonormalisation(L):\n",
    "    m, n = np.array(vecs).shape\n",
    "    L_orthonorm = np.zeros((m,n))\n",
    "    L_orthonorm[0] = L[0] #v_1 = x_1\n",
    "    for i in range(1, len(L)):\n",
    "        v_i = L[i]\n",
    "        #print(\"col\", i)\n",
    "        for j in range(0, i):\n",
    "            #print(\"X:\",i,L[i])\n",
    "            #print(\"V:\",j,L_orthonorm[j])\n",
    "            numerator = np.dot(L[i], L_orthonorm[j])\n",
    "            denominator = np.dot(L_orthonorm[j], L_orthonorm[j])\n",
    "            subtract = (numerator/denominator) * (L_orthonorm[j])\n",
    "            v_i -= subtract\n",
    "        L_orthonorm[i] = v_i\n",
    "    print(\"Original Matrix:\\n\", np.array(L).transpose())\n",
    "    print()\n",
    "    print(\"After Gram-Schmidt Process:\\n\", L_orthonorm.transpose())\n",
    "    print()\n",
    "    print(\"Check Orthogonality\")\n",
    "    orthogonal_set(L_orthonorm.transpose())\n",
    "    print()\n",
    "    print(\"Normalise\")\n",
    "    for i in range(0, len(L_orthonorm)):\n",
    "        magnitude = np.linalg.norm(L_orthonorm[i])\n",
    "        L_orthonorm[i] = L_orthonorm[i]/magnitude\n",
    "    print()\n",
    "    print(\"Check Norm of each column:\")\n",
    "    for i in range(0, len(L_orthonorm)):\n",
    "        print(\"Column\", i, \":\", np.linalg.norm(L_orthonorm[i]))\n",
    "    print()\n",
    "    print(\"Check Orthogonality\")\n",
    "    orthogonal_set(L_orthonorm.transpose())\n",
    "    print()\n",
    "    return L_orthonorm.tolist()"
   ]
  },
  {
   "cell_type": "code",
   "execution_count": 13,
   "metadata": {
    "scrolled": false
   },
   "outputs": [
    {
     "name": "stdout",
     "output_type": "stream",
     "text": [
      "Original Matrix:\n",
      " [[ 4  8 10]\n",
      " [ 3  9  1]\n",
      " [ 2 -5 -1]\n",
      " [ 1 -5  5]]\n",
      "\n",
      "After Gram-Schmidt Process:\n",
      " [[ 4.          2.13333333  3.84159428]\n",
      " [ 3.          4.6        -3.65406234]\n",
      " [ 2.         -7.93333333 -3.97342872]\n",
      " [ 1.         -6.46666667  3.54266735]]\n",
      "\n",
      "Check Orthogonality\n",
      "Comparing column 0 and column 1 ...\n",
      "Comparing column 0 and column 2 ...\n",
      "Comparing column 1 and column 2 ...\n",
      "Orthognal set!\n",
      "\n",
      "Normalise\n",
      "\n",
      "Check Norm of each column:\n",
      "Column 0 : 0.9999999999999999\n",
      "Column 1 : 1.0\n",
      "Column 2 : 0.9999999999999999\n",
      "\n",
      "Check Orthogonality\n",
      "Comparing column 0 and column 1 ...\n",
      "Comparing column 0 and column 2 ...\n",
      "Comparing column 1 and column 2 ...\n",
      "Orthognal set!\n",
      "\n",
      "Type: <class 'list'> \n",
      "\n",
      "After Orthonormalisation:\n",
      "[[ 0.73029674  0.18677078  0.51131052]\n",
      " [ 0.54772256  0.4027245  -0.4863503 ]\n",
      " [ 0.36514837 -0.69455384 -0.52885749]\n",
      " [ 0.18257419 -0.56614893  0.47152379]]\n"
     ]
    }
   ],
   "source": [
    "vecs = [[4,3,2,1], [8,9,-5,-5], [10,1,-1,5]]\n",
    "\n",
    "vecs_norm = Orthonormalisation(vecs)\n",
    "\n",
    "print(\"Type:\", type(vecs_norm), \"\\n\") #output is of list type\n",
    "print(\"After Orthonormalisation:\")\n",
    "print(np.array(vecs_norm).transpose()) #presenting in array format as it is more presentable"
   ]
  },
  {
   "cell_type": "markdown",
   "metadata": {},
   "source": [
    "### Q3a. Write a program to compute the QR factorization of matrix A = QR\n",
    "\n",
    "Where Q is orthonormal and R is upper triangular. (refer to lecture notes for the theory). You may assume A consists of linearly independent vectors."
   ]
  },
  {
   "cell_type": "code",
   "execution_count": 14,
   "metadata": {},
   "outputs": [],
   "source": [
    "def QR_factorization(matrix):\n",
    "    m, n = matrix.shape\n",
    "    Q = np.zeros((m, n))\n",
    "    R = np.zeros((n, n))\n",
    "    \n",
    "    x1 = matrix[:,0]\n",
    "    magnitude = np.linalg.norm(x1)\n",
    "    Q[:,0] = x1/magnitude\n",
    "    R[0][0]= magnitude\n",
    "    \n",
    "    for i in range(1, n):\n",
    "        x_i = matrix[:,i]\n",
    "        v_i = x_i\n",
    "        for j in range(0,i):\n",
    "            v_j = Q[:,j]\n",
    "            r_val = np.dot(x_i, v_j) / np.dot(v_j, v_j)\n",
    "            v_i = v_i - (r_val * v_j)\n",
    "            R[j][i] = r_val\n",
    "        magnitude = np.linalg.norm(v_i)\n",
    "        e_i = v_i / magnitude\n",
    "        Q[:,i] = e_i\n",
    "        R[i][i] = magnitude\n",
    "    return Q, R"
   ]
  },
  {
   "cell_type": "markdown",
   "metadata": {},
   "source": [
    "### Q3b. Compute the QR factorization of A, formed by the 3 column vectors in Q2."
   ]
  },
  {
   "cell_type": "code",
   "execution_count": 15,
   "metadata": {},
   "outputs": [
    {
     "name": "stdout",
     "output_type": "stream",
     "text": [
      "A:\n",
      " [[ 4  8 10]\n",
      " [ 3  9  1]\n",
      " [ 2 -5 -1]\n",
      " [ 1 -5  5]] \n",
      "\n",
      "Q:\n",
      " [[ 0.73029674  0.18677078  0.51131052]\n",
      " [ 0.54772256  0.4027245  -0.4863503 ]\n",
      " [ 0.36514837 -0.69455384 -0.52885749]\n",
      " [ 0.18257419 -0.56614893  0.47152379]] \n",
      "\n",
      "R:\n",
      " [[ 5.47722558  8.03326418  8.39841255]\n",
      " [ 0.         11.42220061  0.1342415 ]\n",
      " [ 0.          0.          7.51323139]] \n",
      "\n"
     ]
    }
   ],
   "source": [
    "Q, R = QR_factorization(np.array(vecs).transpose())\n",
    "\n",
    "print(\"A:\\n\", np.array(vecs).transpose(), \"\\n\")\n",
    "print(\"Q:\\n\", Q, \"\\n\")\n",
    "print(\"R:\\n\", R, \"\\n\")"
   ]
  },
  {
   "cell_type": "code",
   "execution_count": null,
   "metadata": {},
   "outputs": [],
   "source": []
  }
 ],
 "metadata": {
  "kernelspec": {
   "display_name": "Python 3",
   "language": "python",
   "name": "python3"
  },
  "language_info": {
   "codemirror_mode": {
    "name": "ipython",
    "version": 3
   },
   "file_extension": ".py",
   "mimetype": "text/x-python",
   "name": "python",
   "nbconvert_exporter": "python",
   "pygments_lexer": "ipython3",
   "version": "3.8.5"
  }
 },
 "nbformat": 4,
 "nbformat_minor": 4
}
